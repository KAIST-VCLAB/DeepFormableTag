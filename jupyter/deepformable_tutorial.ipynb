{
 "cells": [
  {
   "cell_type": "markdown",
   "id": "df6f5c3e",
   "metadata": {
    "id": "df6f5c3e"
   },
   "source": [
    "# Deepformable Tutorial\n",
    "\n",
    "Welcome to the notebook of deepformable inference tutorial!\n",
    "We will show you how to run the inference model on a data provided.\n",
    "\n",
    "## Installation"
   ]
  },
  {
   "cell_type": "code",
   "execution_count": null,
   "id": "5cceb9f6",
   "metadata": {
    "executionInfo": {
     "elapsed": 520,
     "status": "ok",
     "timestamp": 1644913462983,
     "user": {
      "displayName": "Min H. Kim",
      "photoUrl": "https://lh3.googleusercontent.com/a-/AOh14Ggy3suzNk1dOeLEykJPz_XsDt82xH5EWQOwc8ROkg=s64",
      "userId": "15285768202943128414"
     },
     "user_tz": -540
    },
    "id": "5cceb9f6"
   },
   "outputs": [],
   "source": [
    "# This cell installs necessary components if they are missing\n",
    "import os\n",
    "from pathlib import Path\n",
    "import torch # We assume torch already exists\n",
    "\n",
    "try:\n",
    "    import yaml\n",
    "except ImportError:\n",
    "    !pip install pyyaml==5.1\n",
    "try:\n",
    "    import detectron2\n",
    "except ImportError:\n",
    "    TORCH_VERSION = \".\".join(torch.__version__.split(\".\")[:2])\n",
    "    CUDA_VERSION = torch.__version__.split(\"+\")[-1]\n",
    "    print(\"torch: \", TORCH_VERSION, \"; cuda: \", CUDA_VERSION)\n",
    "    # Install detectron2 that matches the above pytorch version\n",
    "    # See https://detectron2.readthedocs.io/tutorials/install.html for instructions\n",
    "    !pip install detectron2 -f https://dl.fbaipublicfiles.com/detectron2/wheels/$CUDA_VERSION/torch$TORCH_VERSION/index.html\n",
    "    # If there is not yet a detectron2 release that matches the given torch + CUDA version, you need to install a different pytorch.\n",
    "try:\n",
    "    import cv2\n",
    "except ImportError:\n",
    "    !pip install opencv-contrib-python==4.5.5.62\n",
    "try:\n",
    "    import sklearn\n",
    "except ImportError:\n",
    "    !pip install scikit-learn\n",
    "try:\n",
    "    import kornia, shapely, pycocotools\n",
    "except ImportError:\n",
    "    !pip install pycocotools==2.0.4 shapely==1.8.0 kornia==0.6.2\n",
    "\n",
    "# Try importing deepformable\n",
    "deepformable_root = Path(\"/host\")\n",
    "try:\n",
    "    import deepformable\n",
    "    deepformable_root = Path(os.path.dirname(deepformable.__file__)).parent\n",
    "except ImportError:\n",
    "    if deepformable_root.exists():\n",
    "        !pip install -e {str(deepformable_root)}\n",
    "    else:\n",
    "        !git clone \"https://github.com/KAIST-VCLAB/DeepFormableTag\" deepformable\n",
    "        deepformable_root = Path(os.path.dirname(os.path.realpath(\"__file__\"))) / \"deepformable\"\n",
    "        !pip install -e {str(deepformable_root)}\n",
    "print(\"Deepformable root is\", str(deepformable_root))\n",
    "\n",
    "# Install gdown for downloading weights from Google Drive\n",
    "try:\n",
    "  import gdown\n",
    "except ImportError:\n",
    "  !pip install gdown"
   ]
  },
  {
   "cell_type": "code",
   "execution_count": null,
   "id": "iDZr5mBI9rwS",
   "metadata": {
    "colab": {
     "base_uri": "https://localhost:8080/"
    },
    "executionInfo": {
     "elapsed": 6,
     "status": "ok",
     "timestamp": 1644913463568,
     "user": {
      "displayName": "Min H. Kim",
      "photoUrl": "https://lh3.googleusercontent.com/a-/AOh14Ggy3suzNk1dOeLEykJPz_XsDt82xH5EWQOwc8ROkg=s64",
      "userId": "15285768202943128414"
     },
     "user_tz": -540
    },
    "id": "iDZr5mBI9rwS",
    "outputId": "baf2168b-4b11-487f-fe6c-1449085a7bb9"
   },
   "outputs": [],
   "source": [
    "# Try importing deepformable\n",
    "deepformable_root = Path(\"/host\")\n",
    "try:\n",
    "    import deepformable\n",
    "    deepformable_root = Path(os.path.dirname(deepformable.__file__)).parent\n",
    "except ImportError:\n",
    "    installed_something = True\n",
    "    if deepformable_root.exists():\n",
    "        !pip install -e {str(deepformable_root)}\n",
    "    else:\n",
    "        !git clone \"https://github.com/KAIST-VCLAB/DeepFormableTag\" deepformable\n",
    "        deepformable_root = Path(os.path.dirname(os.path.realpath(\"__file__\"))) / \"deepformable\"\n",
    "        !pip install -e {str(deepformable_root)}\n",
    "print(\"Deepformable root is\", str(deepformable_root))"
   ]
  },
  {
   "cell_type": "markdown",
   "id": "41eb4530",
   "metadata": {
    "id": "41eb4530"
   },
   "source": [
    "**Warning:**\n",
    "Once you run the previous cells and install the environment, please restart the runtime to make the installation to be effective.\n",
    "\n",
    "## Loading the model"
   ]
  },
  {
   "cell_type": "code",
   "execution_count": null,
   "id": "b3986302",
   "metadata": {
    "executionInfo": {
     "elapsed": 4,
     "status": "ok",
     "timestamp": 1644913463568,
     "user": {
      "displayName": "Min H. Kim",
      "photoUrl": "https://lh3.googleusercontent.com/a-/AOh14Ggy3suzNk1dOeLEykJPz_XsDt82xH5EWQOwc8ROkg=s64",
      "userId": "15285768202943128414"
     },
     "user_tz": -540
    },
    "id": "b3986302"
   },
   "outputs": [],
   "source": [
    "import time\n",
    "import tqdm\n",
    "import json\n",
    "import cv2\n",
    "import numpy as np\n",
    "import torch\n",
    "\n",
    "from detectron2.data.detection_utils import read_image\n",
    "from detectron2.utils.logger import setup_logger\n",
    "\n",
    "import deepformable.modeling\n",
    "from deepformable.utils import get_cfg, ModifiedPredictor\n",
    "from detectron2.data import DatasetCatalog, MetadataCatalog"
   ]
  },
  {
   "cell_type": "markdown",
   "id": "88a51fc6",
   "metadata": {},
   "source": [
    "There are two types of configs we will be using for our models:\n",
    "- First type of config system is Detectron2's which we added new parameters for our models,\n",
    "  below we will setup config object and load a pretrained model. This config can be loaded from a file\n",
    "  which is in `YAML` format.\n",
    "- Second config is a simple `JSON` file we formatted. It includes informations such as:\n",
    "    - Board configurations and locations of markers\n",
    "    - Binary messages used to generate markers, and assign class ids and confidence during the inference.\n",
    "    - We also assign text for each binary message, which is used during visualization examples.\n",
    "    - You can read `tools/README.md` and check `files/template_config.json` to better understand the formatting."
   ]
  },
  {
   "cell_type": "code",
   "execution_count": null,
   "id": "10f1af22",
   "metadata": {
    "executionInfo": {
     "elapsed": 944,
     "status": "ok",
     "timestamp": 1644913464508,
     "user": {
      "displayName": "Min H. Kim",
      "photoUrl": "https://lh3.googleusercontent.com/a-/AOh14Ggy3suzNk1dOeLEykJPz_XsDt82xH5EWQOwc8ROkg=s64",
      "userId": "15285768202943128414"
     },
     "user_tz": -540
    },
    "id": "10f1af22"
   },
   "outputs": [],
   "source": [
    "# Setup Config\n",
    "cfg = get_cfg()\n",
    "cfg.OUTPUT_DIR = \"/root\"\n",
    "cfg.merge_from_file(deepformable_root / \"configs/deepformable-main.yaml\")\n",
    "model_weight_path = deepformable_root / \"models/deepformable_model.pth\"\n",
    "cfg.MODEL.WEIGHTS = str(model_weight_path)\n",
    "\n",
    "# Download model weights\n",
    "if not model_weight_path.exists():\n",
    "    os.makedirs(deepformable_root / \"models\", exist_ok=True)\n",
    "    gdown.download(\n",
    "        \"https://drive.google.com/uc?id=1TE7fDoM2MRSKPu3MT7eAPE7yGo5BUrmW\", \n",
    "        str(deepformable_root/\"models/deepformable_model.pth\"))\n",
    "\n",
    "# Setup which device to use\n",
    "device = \"cuda\"\n",
    "if not torch.cuda.is_available():\n",
    "    device = \"cpu\"\n",
    "    print(\"CUDA not found, Will run the inference on CPU\")\n",
    "cfg.MODEL.DEVICE = device"
   ]
  },
  {
   "cell_type": "markdown",
   "id": "b0f50e63",
   "metadata": {},
   "source": [
    "`cfg.TEST.NMS_SCORE_CRITERIA` option choses which scoring criteria to use for non-maximum suppression. Options are:\n",
    "- `bit_similarity` uses the distance of predictions to the provided class of messages **[used option in the paper]**\n",
    "- `message_confidence` uses the confidence of how each bit is predicted\n",
    "- `objectness` uses the predicted objectness \n",
    "- `mc_obj_product` uses the product of `message_confidence` and `objectness`\n",
    "- `mc_obj_bs_product` uses the product of `message_confidence`, `bit_similarity` and `objectness` **[default parameter]**\n",
    "\n",
    "If `bit_similarity` is involved in confidence scoring criteria, you have to load correct ground truth binary messages using json config file we provided."
   ]
  },
  {
   "cell_type": "code",
   "execution_count": null,
   "id": "3f35bf08",
   "metadata": {},
   "outputs": [],
   "source": [
    "# Setup NMS criteria\n",
    "# cfg.TEST.NMS_SCORE_CRITERIA = \"bit_similarity\"\n",
    "\n",
    "# This option disables marker binary message matching\n",
    "# cfg.TEST.MARKER_POSTPROCESSING = False\n",
    "\n",
    "\n",
    "# Size of the smallest side of the image during testing. Set to zero to disable resize in testing.\n",
    "# However, we recommend not changing this parameter which will resize to training resolution\n",
    "# before inference and rescale the outputs to the original resolution.\n",
    "# cfg.INPUT.MIN_SIZE_TEST = 0\n",
    "\n",
    "\n",
    "# SCORE_THRESH_TEST parameter determines the threshold to filter\n",
    "# low confidence predictions, default is 0.8, lower numbers will\n",
    "# increase the number of predictions, but also may increase the false positives.\n",
    "# cfg.MODEL.ROI_HEADS.SCORE_THRESH_TEST = 0.7"
   ]
  },
  {
   "cell_type": "code",
   "execution_count": null,
   "id": "916a42f8",
   "metadata": {
    "colab": {
     "base_uri": "https://localhost:8080/"
    },
    "executionInfo": {
     "elapsed": 4,
     "status": "ok",
     "timestamp": 1644913464509,
     "user": {
      "displayName": "Min H. Kim",
      "photoUrl": "https://lh3.googleusercontent.com/a-/AOh14Ggy3suzNk1dOeLEykJPz_XsDt82xH5EWQOwc8ROkg=s64",
      "userId": "15285768202943128414"
     },
     "user_tz": -540
    },
    "id": "916a42f8",
    "outputId": "b8289940-d653-4407-9b4f-c54fabe74e22"
   },
   "outputs": [],
   "source": [
    "# Handle Metadata:\n",
    "# This is the json formatted config file we mentioned above.\n",
    "# This file is important as it will provide the marker bit and class correspondances for detection\n",
    "# if you want to run inference on test data provided, such as \"test_realworld/deformation_2cm/1_2/GO5A5632.png\"\n",
    "# Provide the correct config file which is \"test_realworld/marker_config.json\"\n",
    "# Or change prediction scoring criteria : cfg.TEST.NMS_SCORE_CRITERIA=\"mc_obj_product\" \n",
    "# and disable marker binary message matching: cfg.TEST.MARKER_POSTPROCESSING = False\n",
    "marker_config_path = deepformable_root / \"files/template_config.json\"\n",
    "# marker_config_path = deepformable_root / \"output/test-realworld/marker_config.json\"\n",
    "\n",
    "\n",
    "if marker_config_path.exists():\n",
    "    with open(marker_config_path) as cfg_file:\n",
    "        marker_config = json.load(cfg_file)\n",
    "    print(\"Config loaded!\")\n",
    "\n",
    "    markers = sorted(marker_config['markers'], key=lambda x: x['marker_id'])\n",
    "    binary_messages = [[float(i) for i in m['binary']] for m in markers]\n",
    "    thing_classes = [m['text'] for m in markers]\n",
    "\n",
    "    cfg.MODEL.ROI_HEADS.NUM_CLASSES = len(thing_classes)\n",
    "\n",
    "    metadata_name = cfg.DATASETS.TEST[0]\n",
    "    metadata = MetadataCatalog.get(metadata_name)\n",
    "    metadata.set(messages=binary_messages, thing_classes=thing_classes)"
   ]
  },
  {
   "cell_type": "code",
   "execution_count": null,
   "id": "4e9327ec",
   "metadata": {
    "colab": {
     "base_uri": "https://localhost:8080/"
    },
    "executionInfo": {
     "elapsed": 8070,
     "status": "ok",
     "timestamp": 1644913472576,
     "user": {
      "displayName": "Min H. Kim",
      "photoUrl": "https://lh3.googleusercontent.com/a-/AOh14Ggy3suzNk1dOeLEykJPz_XsDt82xH5EWQOwc8ROkg=s64",
      "userId": "15285768202943128414"
     },
     "user_tz": -540
    },
    "id": "4e9327ec",
    "outputId": "f8ef131c-d15b-4c61-b16e-ff195eea67ba"
   },
   "outputs": [],
   "source": [
    "# Here we initialize our model in prediction mode\n",
    "predictor = ModifiedPredictor(cfg)\n",
    "model = predictor.model\n",
    "marker_generator = model.marker_generator"
   ]
  },
  {
   "cell_type": "markdown",
   "id": "7ad32d12",
   "metadata": {
    "id": "7ad32d12"
   },
   "source": [
    "## Marker Generation\n",
    "\n",
    "Below we generate markers by providing their class id's in a list format to `get_markers_numpy` function.\n",
    "Returned markers are converted to numpy format automatically. Use this method as it applies gamma correction for printing.\n",
    "\n",
    "You can also change the `messages` member of marker_generator to generate markers with different messages embedded."
   ]
  },
  {
   "cell_type": "code",
   "execution_count": null,
   "id": "c2ce0b66",
   "metadata": {
    "colab": {
     "base_uri": "https://localhost:8080/"
    },
    "executionInfo": {
     "elapsed": 4,
     "status": "ok",
     "timestamp": 1644913472576,
     "user": {
      "displayName": "Min H. Kim",
      "photoUrl": "https://lh3.googleusercontent.com/a-/AOh14Ggy3suzNk1dOeLEykJPz_XsDt82xH5EWQOwc8ROkg=s64",
      "userId": "15285768202943128414"
     },
     "user_tz": -540
    },
    "id": "c2ce0b66",
    "outputId": "d5009112-c5a9-4486-a8e3-291bb9ba5a29"
   },
   "outputs": [],
   "source": [
    "import matplotlib.pyplot as plt\n",
    "# You can manually specify the messages to generate markers\n",
    "# Conversion will be done automatically\n",
    "marker_generator.messages = binary_messages\n",
    "print(marker_generator.messages.shape)\n",
    "\n",
    "# Given index of marker will be returned as numpy type\n",
    "markers_model = marker_generator.get_markers_numpy([i for i in range(len(binary_messages))])"
   ]
  },
  {
   "cell_type": "code",
   "execution_count": null,
   "id": "3f98f73d",
   "metadata": {
    "colab": {
     "base_uri": "https://localhost:8080/",
     "height": 357
    },
    "executionInfo": {
     "elapsed": 6391,
     "status": "ok",
     "timestamp": 1644913478964,
     "user": {
      "displayName": "Min H. Kim",
      "photoUrl": "https://lh3.googleusercontent.com/a-/AOh14Ggy3suzNk1dOeLEykJPz_XsDt82xH5EWQOwc8ROkg=s64",
      "userId": "15285768202943128414"
     },
     "user_tz": -540
    },
    "id": "3f98f73d",
    "outputId": "0d5e80b1-f9e1-4129-f6eb-63c12fa5c76d"
   },
   "outputs": [],
   "source": [
    "row_size, fig_size = 14, 6\n",
    "plot_size = len(binary_messages)//row_size, len(binary_messages)//(len(binary_messages)//row_size)\n",
    "fig, axs = plt.subplots(*plot_size, figsize=(fig_size*(plot_size[1]/plot_size[0]), fig_size))\n",
    "for idx in range(np.prod(plot_size)):\n",
    "    i, j = idx % plot_size[0], idx // plot_size[0]\n",
    "    cur_axs = axs[i, j]\n",
    "    cur_axs.imshow(markers_model[idx])\n",
    "    cur_axs.axis('off')"
   ]
  },
  {
   "cell_type": "markdown",
   "id": "d6bf8a27",
   "metadata": {
    "id": "d6bf8a27"
   },
   "source": [
    "## Inference\n",
    "\n",
    "Below we predict the markers and visualize the model predictions using our `DeepformableVisualizer`."
   ]
  },
  {
   "cell_type": "code",
   "execution_count": null,
   "id": "ac4feed5",
   "metadata": {
    "executionInfo": {
     "elapsed": 12,
     "status": "ok",
     "timestamp": 1644913478965,
     "user": {
      "displayName": "Min H. Kim",
      "photoUrl": "https://lh3.googleusercontent.com/a-/AOh14Ggy3suzNk1dOeLEykJPz_XsDt82xH5EWQOwc8ROkg=s64",
      "userId": "15285768202943128414"
     },
     "user_tz": -540
    },
    "id": "ac4feed5"
   },
   "outputs": [],
   "source": [
    "from deepformable.utils import DeepformableVisualizer\n",
    "import cv2\n",
    "\n",
    "# Load an image with markers\n",
    "img = cv2.imread(str(deepformable_root/\"files/example_input.png\"))\n",
    "# To run test images like below, specify the correct \"marker_config_path\" above!\n",
    "# img = cv2.imread(str(deepformable_root / \"output/test-realworld/deformation_2cm/1_2/GO5A5632.png\"))\n",
    "\n",
    "\n",
    "# Initialize deepformable visualizer\n",
    "visualizer = DeepformableVisualizer(metadata)"
   ]
  },
  {
   "cell_type": "code",
   "execution_count": null,
   "id": "6e9e304e",
   "metadata": {
    "colab": {
     "base_uri": "https://localhost:8080/"
    },
    "executionInfo": {
     "elapsed": 1821,
     "status": "ok",
     "timestamp": 1644913480775,
     "user": {
      "displayName": "Min H. Kim",
      "photoUrl": "https://lh3.googleusercontent.com/a-/AOh14Ggy3suzNk1dOeLEykJPz_XsDt82xH5EWQOwc8ROkg=s64",
      "userId": "15285768202943128414"
     },
     "user_tz": -540
    },
    "id": "6e9e304e",
    "outputId": "e342d2d2-cd46-4ef0-d43a-38345e646c81",
    "scrolled": true
   },
   "outputs": [],
   "source": [
    "predictions_d = predictor(img)\n",
    "\n",
    "predictions_d[\"image\"] = img\n",
    "predictions = predictions_d[\"instances\"].to(\"cpu\")\n",
    "vis_out = visualizer.draw_instance_predictions(img, predictions)"
   ]
  },
  {
   "cell_type": "code",
   "execution_count": null,
   "id": "e2403e9b",
   "metadata": {
    "colab": {
     "base_uri": "https://localhost:8080/",
     "height": 504
    },
    "executionInfo": {
     "elapsed": 7,
     "status": "ok",
     "timestamp": 1644913480776,
     "user": {
      "displayName": "Min H. Kim",
      "photoUrl": "https://lh3.googleusercontent.com/a-/AOh14Ggy3suzNk1dOeLEykJPz_XsDt82xH5EWQOwc8ROkg=s64",
      "userId": "15285768202943128414"
     },
     "user_tz": -540
    },
    "id": "e2403e9b",
    "outputId": "f5bae515-12de-4fc0-b7b2-cfb92b26d15f"
   },
   "outputs": [],
   "source": [
    "fig = plt.figure(figsize=(12,8))\n",
    "plt.imshow(vis_out.get_image()[...,::-1])"
   ]
  }
 ],
 "metadata": {
  "accelerator": "GPU",
  "colab": {
   "collapsed_sections": [],
   "name": "deepformable_tutorial.ipynb",
   "provenance": []
  },
  "kernelspec": {
   "display_name": "Python 3 (ipykernel)",
   "language": "python",
   "name": "python3"
  },
  "language_info": {
   "codemirror_mode": {
    "name": "ipython",
    "version": 3
   },
   "file_extension": ".py",
   "mimetype": "text/x-python",
   "name": "python",
   "nbconvert_exporter": "python",
   "pygments_lexer": "ipython3",
   "version": "3.7.11"
  }
 },
 "nbformat": 4,
 "nbformat_minor": 5
}
